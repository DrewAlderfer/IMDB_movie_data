{
 "cells": [
  {
   "cell_type": "code",
   "execution_count": 1,
   "metadata": {},
   "outputs": [],
   "source": [
    "import pandas as pd\n",
    "import numpy as np\n",
    "import seaborn as sns\n",
    "import sqlite3\n",
    "import matplotlib.pyplot as plt"
   ]
  },
  {
   "cell_type": "code",
   "execution_count": 2,
   "metadata": {},
   "outputs": [],
   "source": [
    "con = sqlite3.Connection('./data/im.db')"
   ]
  },
  {
   "cell_type": "markdown",
   "metadata": {},
   "source": [
    "## Table names from the Im.db database file.\n",
    "A list of table names from the Database. I will use this to make a dictionary whose keys are the\n",
    "table names and whose values are dataframe objects read from those tables."
   ]
  },
  {
   "cell_type": "code",
   "execution_count": 3,
   "metadata": {},
   "outputs": [
    {
     "data": {
      "text/html": [
       "<div>\n",
       "<style scoped>\n",
       "    .dataframe tbody tr th:only-of-type {\n",
       "        vertical-align: middle;\n",
       "    }\n",
       "\n",
       "    .dataframe tbody tr th {\n",
       "        vertical-align: top;\n",
       "    }\n",
       "\n",
       "    .dataframe thead th {\n",
       "        text-align: right;\n",
       "    }\n",
       "</style>\n",
       "<table border=\"1\" class=\"dataframe\">\n",
       "  <thead>\n",
       "    <tr style=\"text-align: right;\">\n",
       "      <th></th>\n",
       "      <th>Table Names</th>\n",
       "    </tr>\n",
       "  </thead>\n",
       "  <tbody>\n",
       "    <tr>\n",
       "      <th>0</th>\n",
       "      <td>movie_basics</td>\n",
       "    </tr>\n",
       "    <tr>\n",
       "      <th>1</th>\n",
       "      <td>directors</td>\n",
       "    </tr>\n",
       "    <tr>\n",
       "      <th>2</th>\n",
       "      <td>known_for</td>\n",
       "    </tr>\n",
       "    <tr>\n",
       "      <th>3</th>\n",
       "      <td>movie_akas</td>\n",
       "    </tr>\n",
       "    <tr>\n",
       "      <th>4</th>\n",
       "      <td>movie_ratings</td>\n",
       "    </tr>\n",
       "    <tr>\n",
       "      <th>5</th>\n",
       "      <td>persons</td>\n",
       "    </tr>\n",
       "    <tr>\n",
       "      <th>6</th>\n",
       "      <td>principals</td>\n",
       "    </tr>\n",
       "    <tr>\n",
       "      <th>7</th>\n",
       "      <td>writers</td>\n",
       "    </tr>\n",
       "  </tbody>\n",
       "</table>\n",
       "</div>"
      ],
      "text/plain": [
       "     Table Names\n",
       "0   movie_basics\n",
       "1      directors\n",
       "2      known_for\n",
       "3     movie_akas\n",
       "4  movie_ratings\n",
       "5        persons\n",
       "6     principals\n",
       "7        writers"
      ]
     },
     "execution_count": 3,
     "metadata": {},
     "output_type": "execute_result"
    }
   ],
   "source": [
    "q = (\"\"\"\n",
    "     SELECT name\n",
    "     AS 'Table Names'\n",
    "     FROM sqlite_master\n",
    "     WHERE type='table';\n",
    "\n",
    "     \"\"\")\n",
    "table_names = pd.read_sql(q, con)\n",
    "table_names"
   ]
  },
  {
   "cell_type": "markdown",
   "metadata": {},
   "source": [
    "### Sql Query Function\n",
    "I wrote this function to take in a list of strings, form a valid sql query and then return the \n",
    "result of that query in a Pandas DataFrame object."
   ]
  },
  {
   "cell_type": "code",
   "execution_count": 4,
   "metadata": {},
   "outputs": [],
   "source": [
    "\n",
    "def sql_select(table, col_names, cond=None, group=None, having=None, order=None, limit=None):\n",
    "    s_func = f\"SELECT {col_names}\\nFROM {table}\"\n",
    "    ending = \"\"\n",
    "    if cond != None:\n",
    "        ending = \"\\nWHERE \" + cond\n",
    "    if group != None:\n",
    "        ending += \"\\nGROUP BY \" + group\n",
    "    if having != None:\n",
    "        ending += \"\\nHAVING \" + having\n",
    "    if order != None:\n",
    "        ending += \"\\nORDER BY \" + order\n",
    "    if limit != None:\n",
    "        ending += \"\\nLIMIT \" + limit\n",
    "    ending += \";\"\n",
    "    query = s_func + ending\n",
    "    return pd.read_sql(query, con)       "
   ]
  },
  {
   "cell_type": "markdown",
   "metadata": {},
   "source": [
    "### Initializing the Dicitonary\n",
    "I am using a dictionary comprehension function to create the dictionary containing Key, value\n",
    "pairs of the table name and the corresponding DataFrame objects."
   ]
  },
  {
   "cell_type": "code",
   "execution_count": 5,
   "metadata": {},
   "outputs": [],
   "source": [
    "tables = {k: sql_select(k, \"*\") for k in table_names['Table Names'].to_list()}"
   ]
  },
  {
   "cell_type": "markdown",
   "metadata": {},
   "source": [
    "Checking the dicitonary object for correctness."
   ]
  },
  {
   "cell_type": "code",
   "execution_count": 6,
   "metadata": {},
   "outputs": [
    {
     "data": {
      "text/plain": [
       "['movie_basics',\n",
       " 'directors',\n",
       " 'known_for',\n",
       " 'movie_akas',\n",
       " 'movie_ratings',\n",
       " 'persons',\n",
       " 'principals',\n",
       " 'writers']"
      ]
     },
     "execution_count": 6,
     "metadata": {},
     "output_type": "execute_result"
    }
   ],
   "source": [
    "len(tables)\n",
    "list(tables.keys())"
   ]
  },
  {
   "cell_type": "markdown",
   "metadata": {},
   "source": [
    "### The next step: EDA\n",
    "The next step is doing some exploratory data analysis to look for interesting patterns or facts\n",
    "in the data. I think I will probably go about this by just inspecting each table individually\n",
    "and then deciding on a particular attribute to focus in on or compare/correlate/investigate in\n",
    "relation to other column values in the dataset."
   ]
  },
  {
   "cell_type": "code",
   "execution_count": 7,
   "metadata": {},
   "outputs": [
    {
     "data": {
      "text/plain": [
       "[('movie_basics',\n",
       "  ['movie_id',\n",
       "   'primary_title',\n",
       "   'original_title',\n",
       "   'start_year',\n",
       "   'runtime_minutes',\n",
       "   'genres']),\n",
       " ('directors', ['movie_id', 'person_id']),\n",
       " ('known_for', ['person_id', 'movie_id']),\n",
       " ('movie_akas',\n",
       "  ['movie_id',\n",
       "   'ordering',\n",
       "   'title',\n",
       "   'region',\n",
       "   'language',\n",
       "   'types',\n",
       "   'attributes',\n",
       "   'is_original_title']),\n",
       " ('movie_ratings', ['movie_id', 'averagerating', 'numvotes']),\n",
       " ('persons',\n",
       "  ['person_id',\n",
       "   'primary_name',\n",
       "   'birth_year',\n",
       "   'death_year',\n",
       "   'primary_profession']),\n",
       " ('principals',\n",
       "  ['movie_id', 'ordering', 'person_id', 'category', 'job', 'characters']),\n",
       " ('writers', ['movie_id', 'person_id'])]"
      ]
     },
     "execution_count": 7,
     "metadata": {},
     "output_type": "execute_result"
    }
   ],
   "source": [
    "list(tables['movie_ratings'].columns)\n",
    "\n",
    "[(table, list(tables[table].columns)) for table in tables.keys()]"
   ]
  },
  {
   "cell_type": "markdown",
   "metadata": {},
   "source": [
    "### Other Data Soruces\n",
    "Now that I can see the basic struture of the imdb information I wan to move on to other datasets\n",
    "and look for what information there might be interesting to compare to what is contained in my\n",
    "dictionary object.\n",
    "--------------------------------------------------------------"
   ]
  },
  {
   "cell_type": "markdown",
   "metadata": {},
   "source": [
    "**Let's pull those other datasources into our dictionary:**"
   ]
  },
  {
   "cell_type": "code",
   "execution_count": 8,
   "metadata": {},
   "outputs": [],
   "source": [
    "tables['movie_gross'] = pd.read_csv('./data/bom.movie_gross.csv')\n",
    "tables['tmbd'] = pd.read_csv('./data/tmdb.movies.csv')\n",
    "tables['movie_budgets'] = pd.read_csv('./data/tn.movie_budgets.csv')\n",
    "tables['movie_reviews'] = pd.read_table('./data/rt.reviews.tsv', delimiter='\\t',  header=0, encoding='unicode_escape')\n",
    "tables['movie_info'] = pd.read_table('./data/rt.movie_info.tsv')"
   ]
  },
  {
   "cell_type": "markdown",
   "metadata": {},
   "source": [
    "## Table of Contents\n",
    "**_Here I created a class_** to take in a dictionary of datasets and return the Table of contents for\n",
    "that dictionary. \n",
    "\n",
    "The `__init__` function takes in a dictionary with table names as the keys, and\n",
    "DataFrame objects as the values. Then it makes a new dictionary with a list of the column names\n",
    "from each table as the values, and the associated table names as keys.\n",
    "\n",
    "I think the combination of the dict `tables` containing all my datasets and the Table of Contents\n",
    "class could be more useful if merged into a single class. The TOC is nice but it's only purpose at\n",
    "the moment is to provide a print-out of everything at once. Doing something similar to just having\n",
    "each table in it's own Pandas DataFrame object (which they still are actually) and then going cell\n",
    "by cell and printing them all out. While it's nice to be able to see it all at once I think having\n",
    "a class that takes in the tables and stores a dictionary on them, but also incorporates methods for\n",
    "accessing and interacting with them in a more streamlined way beyond just printing a formatted\n",
    "overview would be a really great tool to have.\n",
    "\n",
    "Such a tool might provide:\n",
    "  - Automated methods for basic analysis\n",
    "  - Comparing, and viewing tables or columns across tables\n",
    "  - Labeling and extending the functionality built-into Pandas Dataframes\n",
    "  - inserting and removing tables\n",
    "  - Tools to automatically manage an SQL connection\n",
    "\n",
    "It seems like this is probaly something someone has already built or is maybe not practical on a\n",
    "more regular basis, but this is the direction my mind went working with this particular set of \n",
    "tables where a lot of merge and cleaning needed to happen across several separate tables.\n",
    "\n",
    "It was also nice to be able to treat all of the tables syntactically like a single database or\n",
    "Pandas object."
   ]
  },
  {
   "cell_type": "code",
   "execution_count": 9,
   "metadata": {},
   "outputs": [],
   "source": [
    "class Table_of_Contents():\n",
    "    def __init__(self, dict):\n",
    "        self.data_dict = {table: list(dict[table].columns) for table in tables.keys()}\n",
    "\n",
    "    def __repr__(self):\n",
    "        str_out = \"Table of Contents\\n\"\n",
    "        for k, v in self.data_dict.items():\n",
    "            str_out += \"\\n\" + k + \"\\n\"\n",
    "            for num, col_name in enumerate(v):\n",
    "               str_out += str(num) + \"..\" + col_name + \"\\n\"\n",
    "        return str_out "
   ]
  },
  {
   "cell_type": "markdown",
   "metadata": {},
   "source": [
    "### Initializing a TOC Object\n",
    "**Now** we can initialize the Table of Contents object and get a more readable look at what is\n",
    "inside our full dataset."
   ]
  },
  {
   "cell_type": "code",
   "execution_count": 10,
   "metadata": {},
   "outputs": [
    {
     "data": {
      "text/plain": [
       "['object',\n",
       " 'object',\n",
       " 'object',\n",
       " 'long long integer',\n",
       " 'double precision',\n",
       " 'object']"
      ]
     },
     "execution_count": 10,
     "metadata": {},
     "output_type": "execute_result"
    }
   ],
   "source": [
    "[np.typename(np.sctype2char(x)) for x in tables['movie_basics'].dtypes]"
   ]
  },
  {
   "cell_type": "code",
   "execution_count": 11,
   "metadata": {},
   "outputs": [
    {
     "name": "stdout",
     "output_type": "stream",
     "text": [
      "Table of Contents\n",
      "\n",
      "movie_basics\n",
      "0..movie_id\n",
      "1..primary_title\n",
      "2..original_title\n",
      "3..start_year\n",
      "4..runtime_minutes\n",
      "5..genres\n",
      "\n",
      "directors\n",
      "0..movie_id\n",
      "1..person_id\n",
      "\n",
      "known_for\n",
      "0..person_id\n",
      "1..movie_id\n",
      "\n",
      "movie_akas\n",
      "0..movie_id\n",
      "1..ordering\n",
      "2..title\n",
      "3..region\n",
      "4..language\n",
      "5..types\n",
      "6..attributes\n",
      "7..is_original_title\n",
      "\n",
      "movie_ratings\n",
      "0..movie_id\n",
      "1..averagerating\n",
      "2..numvotes\n",
      "\n",
      "persons\n",
      "0..person_id\n",
      "1..primary_name\n",
      "2..birth_year\n",
      "3..death_year\n",
      "4..primary_profession\n",
      "\n",
      "principals\n",
      "0..movie_id\n",
      "1..ordering\n",
      "2..person_id\n",
      "3..category\n",
      "4..job\n",
      "5..characters\n",
      "\n",
      "writers\n",
      "0..movie_id\n",
      "1..person_id\n",
      "\n",
      "movie_gross\n",
      "0..title\n",
      "1..studio\n",
      "2..domestic_gross\n",
      "3..foreign_gross\n",
      "4..year\n",
      "\n",
      "tmbd\n",
      "0..Unnamed: 0\n",
      "1..genre_ids\n",
      "2..id\n",
      "3..original_language\n",
      "4..original_title\n",
      "5..popularity\n",
      "6..release_date\n",
      "7..title\n",
      "8..vote_average\n",
      "9..vote_count\n",
      "\n",
      "movie_budgets\n",
      "0..id\n",
      "1..release_date\n",
      "2..movie\n",
      "3..production_budget\n",
      "4..domestic_gross\n",
      "5..worldwide_gross\n",
      "\n",
      "movie_reviews\n",
      "0..id\n",
      "1..review\n",
      "2..rating\n",
      "3..fresh\n",
      "4..critic\n",
      "5..top_critic\n",
      "6..publisher\n",
      "7..date\n",
      "\n",
      "movie_info\n",
      "0..id\n",
      "1..synopsis\n",
      "2..rating\n",
      "3..genre\n",
      "4..director\n",
      "5..writer\n",
      "6..theater_date\n",
      "7..dvd_date\n",
      "8..currency\n",
      "9..box_office\n",
      "10..runtime\n",
      "11..studio\n",
      "\n"
     ]
    }
   ],
   "source": [
    "movie_toc = Table_of_Contents(tables)\n",
    "print(movie_toc)"
   ]
  },
  {
   "cell_type": "markdown",
   "metadata": {},
   "source": [
    "Now that there is a good way to inspect our basic data structure .\n",
    "I can start searching for and inspecting the contents to identify the merges and joins I need to \n",
    "execute to be able to start analyzing the relationships I'm interested in exploring.\n",
    "\n",
    "**_Note:_** I would like to follow up and expand this class to print and store datatypes and other\n",
    "useful information about each table/columnn."
   ]
  },
  {
   "cell_type": "code",
   "execution_count": 12,
   "metadata": {},
   "outputs": [
    {
     "data": {
      "text/html": [
       "<div>\n",
       "<style scoped>\n",
       "    .dataframe tbody tr th:only-of-type {\n",
       "        vertical-align: middle;\n",
       "    }\n",
       "\n",
       "    .dataframe tbody tr th {\n",
       "        vertical-align: top;\n",
       "    }\n",
       "\n",
       "    .dataframe thead th {\n",
       "        text-align: right;\n",
       "    }\n",
       "</style>\n",
       "<table border=\"1\" class=\"dataframe\">\n",
       "  <thead>\n",
       "    <tr style=\"text-align: right;\">\n",
       "      <th></th>\n",
       "      <th>movie_id</th>\n",
       "      <th>primary_title</th>\n",
       "      <th>original_title</th>\n",
       "      <th>start_year</th>\n",
       "      <th>runtime_minutes</th>\n",
       "      <th>genres</th>\n",
       "    </tr>\n",
       "  </thead>\n",
       "  <tbody>\n",
       "    <tr>\n",
       "      <th>0</th>\n",
       "      <td>tt0063540</td>\n",
       "      <td>Sunghursh</td>\n",
       "      <td>Sunghursh</td>\n",
       "      <td>2013</td>\n",
       "      <td>175.0</td>\n",
       "      <td>Action,Crime,Drama</td>\n",
       "    </tr>\n",
       "    <tr>\n",
       "      <th>1</th>\n",
       "      <td>tt0066787</td>\n",
       "      <td>One Day Before the Rainy Season</td>\n",
       "      <td>Ashad Ka Ek Din</td>\n",
       "      <td>2019</td>\n",
       "      <td>114.0</td>\n",
       "      <td>Biography,Drama</td>\n",
       "    </tr>\n",
       "    <tr>\n",
       "      <th>2</th>\n",
       "      <td>tt0069049</td>\n",
       "      <td>The Other Side of the Wind</td>\n",
       "      <td>The Other Side of the Wind</td>\n",
       "      <td>2018</td>\n",
       "      <td>122.0</td>\n",
       "      <td>Drama</td>\n",
       "    </tr>\n",
       "    <tr>\n",
       "      <th>3</th>\n",
       "      <td>tt0069204</td>\n",
       "      <td>Sabse Bada Sukh</td>\n",
       "      <td>Sabse Bada Sukh</td>\n",
       "      <td>2018</td>\n",
       "      <td>NaN</td>\n",
       "      <td>Comedy,Drama</td>\n",
       "    </tr>\n",
       "    <tr>\n",
       "      <th>4</th>\n",
       "      <td>tt0100275</td>\n",
       "      <td>The Wandering Soap Opera</td>\n",
       "      <td>La Telenovela Errante</td>\n",
       "      <td>2017</td>\n",
       "      <td>80.0</td>\n",
       "      <td>Comedy,Drama,Fantasy</td>\n",
       "    </tr>\n",
       "  </tbody>\n",
       "</table>\n",
       "</div>"
      ],
      "text/plain": [
       "    movie_id                    primary_title              original_title  \\\n",
       "0  tt0063540                        Sunghursh                   Sunghursh   \n",
       "1  tt0066787  One Day Before the Rainy Season             Ashad Ka Ek Din   \n",
       "2  tt0069049       The Other Side of the Wind  The Other Side of the Wind   \n",
       "3  tt0069204                  Sabse Bada Sukh             Sabse Bada Sukh   \n",
       "4  tt0100275         The Wandering Soap Opera       La Telenovela Errante   \n",
       "\n",
       "   start_year  runtime_minutes                genres  \n",
       "0        2013            175.0    Action,Crime,Drama  \n",
       "1        2019            114.0       Biography,Drama  \n",
       "2        2018            122.0                 Drama  \n",
       "3        2018              NaN          Comedy,Drama  \n",
       "4        2017             80.0  Comedy,Drama,Fantasy  "
      ]
     },
     "execution_count": 12,
     "metadata": {},
     "output_type": "execute_result"
    }
   ],
   "source": [
    "tables['movie_basics'].head()"
   ]
  },
  {
   "cell_type": "code",
   "execution_count": 13,
   "metadata": {},
   "outputs": [],
   "source": [
    "m_grouped_by_p = tables['known_for'].groupby('person_id')['movie_id'].apply(list).reset_index()"
   ]
  },
  {
   "cell_type": "code",
   "execution_count": 14,
   "metadata": {},
   "outputs": [
    {
     "data": {
      "text/html": [
       "<div>\n",
       "<style scoped>\n",
       "    .dataframe tbody tr th:only-of-type {\n",
       "        vertical-align: middle;\n",
       "    }\n",
       "\n",
       "    .dataframe tbody tr th {\n",
       "        vertical-align: top;\n",
       "    }\n",
       "\n",
       "    .dataframe thead th {\n",
       "        text-align: right;\n",
       "    }\n",
       "</style>\n",
       "<table border=\"1\" class=\"dataframe\">\n",
       "  <thead>\n",
       "    <tr style=\"text-align: right;\">\n",
       "      <th></th>\n",
       "      <th>person_id</th>\n",
       "      <th>primary_name</th>\n",
       "      <th>birth_year</th>\n",
       "      <th>death_year</th>\n",
       "      <th>primary_profession</th>\n",
       "      <th>movie_id</th>\n",
       "    </tr>\n",
       "  </thead>\n",
       "  <tbody>\n",
       "    <tr>\n",
       "      <th>0</th>\n",
       "      <td>nm0061671</td>\n",
       "      <td>Mary Ellen Bauder</td>\n",
       "      <td>NaN</td>\n",
       "      <td>NaN</td>\n",
       "      <td>miscellaneous,production_manager,producer</td>\n",
       "      <td>[tt0837562, tt2398241, tt0844471, tt0118553]</td>\n",
       "    </tr>\n",
       "    <tr>\n",
       "      <th>1</th>\n",
       "      <td>nm0061865</td>\n",
       "      <td>Joseph Bauer</td>\n",
       "      <td>NaN</td>\n",
       "      <td>NaN</td>\n",
       "      <td>composer,music_department,sound_department</td>\n",
       "      <td>[tt0896534, tt6791238, tt0287072, tt1682940]</td>\n",
       "    </tr>\n",
       "    <tr>\n",
       "      <th>2</th>\n",
       "      <td>nm0062070</td>\n",
       "      <td>Bruce Baum</td>\n",
       "      <td>NaN</td>\n",
       "      <td>NaN</td>\n",
       "      <td>miscellaneous,actor,writer</td>\n",
       "      <td>[tt1470654, tt0363631, tt0104030, tt0102898]</td>\n",
       "    </tr>\n",
       "    <tr>\n",
       "      <th>3</th>\n",
       "      <td>nm0062195</td>\n",
       "      <td>Axel Baumann</td>\n",
       "      <td>NaN</td>\n",
       "      <td>NaN</td>\n",
       "      <td>camera_department,cinematographer,art_department</td>\n",
       "      <td>[tt0114371, tt2004304, tt1618448, tt1224387]</td>\n",
       "    </tr>\n",
       "    <tr>\n",
       "      <th>4</th>\n",
       "      <td>nm0062798</td>\n",
       "      <td>Pete Baxter</td>\n",
       "      <td>NaN</td>\n",
       "      <td>NaN</td>\n",
       "      <td>production_designer,art_department,set_decorator</td>\n",
       "      <td>[tt0452644, tt0452692, tt3458030, tt2178256]</td>\n",
       "    </tr>\n",
       "  </tbody>\n",
       "</table>\n",
       "</div>"
      ],
      "text/plain": [
       "   person_id       primary_name  birth_year  death_year  \\\n",
       "0  nm0061671  Mary Ellen Bauder         NaN         NaN   \n",
       "1  nm0061865       Joseph Bauer         NaN         NaN   \n",
       "2  nm0062070         Bruce Baum         NaN         NaN   \n",
       "3  nm0062195       Axel Baumann         NaN         NaN   \n",
       "4  nm0062798        Pete Baxter         NaN         NaN   \n",
       "\n",
       "                                 primary_profession  \\\n",
       "0         miscellaneous,production_manager,producer   \n",
       "1        composer,music_department,sound_department   \n",
       "2                        miscellaneous,actor,writer   \n",
       "3  camera_department,cinematographer,art_department   \n",
       "4  production_designer,art_department,set_decorator   \n",
       "\n",
       "                                       movie_id  \n",
       "0  [tt0837562, tt2398241, tt0844471, tt0118553]  \n",
       "1  [tt0896534, tt6791238, tt0287072, tt1682940]  \n",
       "2  [tt1470654, tt0363631, tt0104030, tt0102898]  \n",
       "3  [tt0114371, tt2004304, tt1618448, tt1224387]  \n",
       "4  [tt0452644, tt0452692, tt3458030, tt2178256]  "
      ]
     },
     "execution_count": 14,
     "metadata": {},
     "output_type": "execute_result"
    }
   ],
   "source": [
    "persons_plus_movies = tables['persons'].merge(m_grouped_by_p, on='person_id')\n",
    "persons_plus_movies.head()"
   ]
  },
  {
   "cell_type": "code",
   "execution_count": 15,
   "metadata": {},
   "outputs": [
    {
     "data": {
      "text/html": [
       "<div>\n",
       "<style scoped>\n",
       "    .dataframe tbody tr th:only-of-type {\n",
       "        vertical-align: middle;\n",
       "    }\n",
       "\n",
       "    .dataframe tbody tr th {\n",
       "        vertical-align: top;\n",
       "    }\n",
       "\n",
       "    .dataframe thead th {\n",
       "        text-align: right;\n",
       "    }\n",
       "</style>\n",
       "<table border=\"1\" class=\"dataframe\">\n",
       "  <thead>\n",
       "    <tr style=\"text-align: right;\">\n",
       "      <th></th>\n",
       "      <th>person_id</th>\n",
       "      <th>primary_name</th>\n",
       "      <th>birth_year</th>\n",
       "      <th>death_year</th>\n",
       "      <th>primary_profession</th>\n",
       "      <th>movie_id</th>\n",
       "    </tr>\n",
       "  </thead>\n",
       "  <tbody>\n",
       "    <tr>\n",
       "      <th>0</th>\n",
       "      <td>nm0061671</td>\n",
       "      <td>Mary Ellen Bauder</td>\n",
       "      <td>NaN</td>\n",
       "      <td>NaN</td>\n",
       "      <td>[miscellaneous, production_manager, producer]</td>\n",
       "      <td>[tt0837562, tt2398241, tt0844471, tt0118553]</td>\n",
       "    </tr>\n",
       "    <tr>\n",
       "      <th>1</th>\n",
       "      <td>nm0061865</td>\n",
       "      <td>Joseph Bauer</td>\n",
       "      <td>NaN</td>\n",
       "      <td>NaN</td>\n",
       "      <td>[composer, music_department, sound_department]</td>\n",
       "      <td>[tt0896534, tt6791238, tt0287072, tt1682940]</td>\n",
       "    </tr>\n",
       "    <tr>\n",
       "      <th>2</th>\n",
       "      <td>nm0062070</td>\n",
       "      <td>Bruce Baum</td>\n",
       "      <td>NaN</td>\n",
       "      <td>NaN</td>\n",
       "      <td>[miscellaneous, actor, writer]</td>\n",
       "      <td>[tt1470654, tt0363631, tt0104030, tt0102898]</td>\n",
       "    </tr>\n",
       "    <tr>\n",
       "      <th>3</th>\n",
       "      <td>nm0062195</td>\n",
       "      <td>Axel Baumann</td>\n",
       "      <td>NaN</td>\n",
       "      <td>NaN</td>\n",
       "      <td>[camera_department, cinematographer, art_depar...</td>\n",
       "      <td>[tt0114371, tt2004304, tt1618448, tt1224387]</td>\n",
       "    </tr>\n",
       "    <tr>\n",
       "      <th>4</th>\n",
       "      <td>nm0062798</td>\n",
       "      <td>Pete Baxter</td>\n",
       "      <td>NaN</td>\n",
       "      <td>NaN</td>\n",
       "      <td>[production_designer, art_department, set_deco...</td>\n",
       "      <td>[tt0452644, tt0452692, tt3458030, tt2178256]</td>\n",
       "    </tr>\n",
       "  </tbody>\n",
       "</table>\n",
       "</div>"
      ],
      "text/plain": [
       "   person_id       primary_name  birth_year  death_year  \\\n",
       "0  nm0061671  Mary Ellen Bauder         NaN         NaN   \n",
       "1  nm0061865       Joseph Bauer         NaN         NaN   \n",
       "2  nm0062070         Bruce Baum         NaN         NaN   \n",
       "3  nm0062195       Axel Baumann         NaN         NaN   \n",
       "4  nm0062798        Pete Baxter         NaN         NaN   \n",
       "\n",
       "                                  primary_profession  \\\n",
       "0      [miscellaneous, production_manager, producer]   \n",
       "1     [composer, music_department, sound_department]   \n",
       "2                     [miscellaneous, actor, writer]   \n",
       "3  [camera_department, cinematographer, art_depar...   \n",
       "4  [production_designer, art_department, set_deco...   \n",
       "\n",
       "                                       movie_id  \n",
       "0  [tt0837562, tt2398241, tt0844471, tt0118553]  \n",
       "1  [tt0896534, tt6791238, tt0287072, tt1682940]  \n",
       "2  [tt1470654, tt0363631, tt0104030, tt0102898]  \n",
       "3  [tt0114371, tt2004304, tt1618448, tt1224387]  \n",
       "4  [tt0452644, tt0452692, tt3458030, tt2178256]  "
      ]
     },
     "execution_count": 15,
     "metadata": {},
     "output_type": "execute_result"
    }
   ],
   "source": [
    "persons_plus_movies['primary_profession'] = persons_plus_movies['primary_profession'].map(lambda x : x.split(','), na_action='ignore')\n",
    "persons_plus_movies.head()"
   ]
  },
  {
   "cell_type": "markdown",
   "metadata": {},
   "source": [
    "#### Note to self: Refocus\n",
    "## \n",
    "Okay what I need to do to finish this line of thought is get a list of movies where one or more of\n",
    "the credited actors dies within 0 - 2 years of the film being released. Then I need to compare the\n",
    "median gross of that film to the median gross of other films from the same time period where there\n",
    "was not a death associated with the release.\n",
    "\n",
    "1. First step in this process is adding a column to the `persons_plus_movies` table that grabs the\n",
    "   release dates from each of the movies listed in their `movie_id` column.\n",
    "\n",
    "2. The second step will be to calculate the mininum value of the difference between the date of\n",
    "   their death and the release date of each of their films."
   ]
  },
  {
   "cell_type": "code",
   "execution_count": 16,
   "metadata": {},
   "outputs": [],
   "source": [
    "def find_movies(id_list):\n",
    "    result = []\n",
    "    for movie in id_list:\n",
    "        try:\n",
    "            title = tables['movie_basics'][tables['movie_basics']['movie_id'] == movie]['primary_title'].to_list()\n",
    "            year = tables['movie_basics'][tables['movie_basics']['movie_id'] == movie]['start_year'].to_list()\n",
    "            entry = (title[0], str(year[0]))\n",
    "            if title:\n",
    "                result.append(entry)\n",
    "        except TypeError and LookupError:\n",
    "            pass\n",
    "    return result"
   ]
  },
  {
   "cell_type": "code",
   "execution_count": 17,
   "metadata": {},
   "outputs": [
    {
     "data": {
      "text/plain": [
       "[('Hotel Transylvania', '2012'), ('Smurfs: The Lost Village', '2017')]"
      ]
     },
     "execution_count": 17,
     "metadata": {},
     "output_type": "execute_result"
    }
   ],
   "source": [
    "find_movies(persons_plus_movies['movie_id'][0])"
   ]
  },
  {
   "cell_type": "markdown",
   "metadata": {},
   "source": [
    "## Adjusting Course\n",
    "At this point I need some course correction. The EDA in the direction I have been following is going\n",
    "to be more involved and turned out to be a little less practical given the limited timeframe covered\n",
    "by this dataset.\n",
    "\n",
    "Instead I am going to focus on the following and see what I can accomplish befor the deadline:\n",
    "Popular Genres > Budget to Profit > Most adavantageous season for genre"
   ]
  },
  {
   "cell_type": "code",
   "execution_count": 18,
   "metadata": {},
   "outputs": [
    {
     "name": "stdout",
     "output_type": "stream",
     "text": [
      "<class 'pandas.core.frame.DataFrame'>\n",
      "RangeIndex: 146144 entries, 0 to 146143\n",
      "Data columns (total 6 columns):\n",
      " #   Column           Non-Null Count   Dtype  \n",
      "---  ------           --------------   -----  \n",
      " 0   movie_id         146144 non-null  object \n",
      " 1   primary_title    146144 non-null  object \n",
      " 2   original_title   146123 non-null  object \n",
      " 3   start_year       146144 non-null  int64  \n",
      " 4   runtime_minutes  114405 non-null  float64\n",
      " 5   genres           140736 non-null  object \n",
      "dtypes: float64(1), int64(1), object(4)\n",
      "memory usage: 6.7+ MB\n"
     ]
    }
   ],
   "source": [
    "primary_df = tables['movie_basics']\n",
    "primary_df.info()"
   ]
  },
  {
   "cell_type": "markdown",
   "metadata": {},
   "source": [
    "## Merges and Joins\n",
    "I have a `primary_df` now with gernres split into a list. Now I want to start joining in the data\n",
    "from other tables that I want to use.\n",
    "  - Budget\n",
    "  - Reviews or some other marker of popularity\n",
    "  - Domestic & Foreign Grosses\n",
    "  - More accurate release date (that includes month)"
   ]
  },
  {
   "cell_type": "code",
   "execution_count": 19,
   "metadata": {},
   "outputs": [],
   "source": [
    "tables['movie_ratings']\n",
    "primary_df = primary_df.merge(tables['movie_ratings'], on='movie_id')"
   ]
  },
  {
   "cell_type": "code",
   "execution_count": 20,
   "metadata": {},
   "outputs": [],
   "source": [
    "budgets = tables['movie_budgets'][['release_date', 'movie', 'production_budget', 'domestic_gross', 'worldwide_gross']].rename(columns={'movie':'primary_title'})\n",
    "budgets\n",
    "primary_df = primary_df.merge(budgets, on='primary_title', how='left')"
   ]
  },
  {
   "cell_type": "code",
   "execution_count": 21,
   "metadata": {},
   "outputs": [],
   "source": [
    "gross = tables['movie_gross'][['title', 'studio', 'domestic_gross', 'foreign_gross']].rename(columns={'title':'primary_title'})\n",
    "primary_df = primary_df.merge(gross, on='primary_title', how='left', suffixes=('_x','_y'))"
   ]
  },
  {
   "cell_type": "code",
   "execution_count": 22,
   "metadata": {},
   "outputs": [
    {
     "data": {
      "text/html": [
       "<div>\n",
       "<style scoped>\n",
       "    .dataframe tbody tr th:only-of-type {\n",
       "        vertical-align: middle;\n",
       "    }\n",
       "\n",
       "    .dataframe tbody tr th {\n",
       "        vertical-align: top;\n",
       "    }\n",
       "\n",
       "    .dataframe thead th {\n",
       "        text-align: right;\n",
       "    }\n",
       "</style>\n",
       "<table border=\"1\" class=\"dataframe\">\n",
       "  <thead>\n",
       "    <tr style=\"text-align: right;\">\n",
       "      <th></th>\n",
       "      <th>movie_id</th>\n",
       "      <th>primary_title</th>\n",
       "      <th>original_title</th>\n",
       "      <th>start_year</th>\n",
       "      <th>runtime_minutes</th>\n",
       "      <th>genres</th>\n",
       "      <th>averagerating</th>\n",
       "      <th>numvotes</th>\n",
       "      <th>release_date</th>\n",
       "      <th>production_budget</th>\n",
       "      <th>domestic_gross_x</th>\n",
       "      <th>worldwide_gross</th>\n",
       "      <th>studio</th>\n",
       "      <th>domestic_gross_y</th>\n",
       "      <th>foreign_gross</th>\n",
       "    </tr>\n",
       "  </thead>\n",
       "  <tbody>\n",
       "    <tr>\n",
       "      <th>16</th>\n",
       "      <td>tt0249516</td>\n",
       "      <td>Foodfight!</td>\n",
       "      <td>Foodfight!</td>\n",
       "      <td>2012</td>\n",
       "      <td>91.0</td>\n",
       "      <td>Action,Animation,Comedy</td>\n",
       "      <td>1.9</td>\n",
       "      <td>8248</td>\n",
       "      <td>Dec 31, 2012</td>\n",
       "      <td>$45,000,000</td>\n",
       "      <td>$0</td>\n",
       "      <td>$73,706</td>\n",
       "      <td>NaN</td>\n",
       "      <td>NaN</td>\n",
       "      <td>NaN</td>\n",
       "    </tr>\n",
       "    <tr>\n",
       "      <th>33</th>\n",
       "      <td>tt0326592</td>\n",
       "      <td>The Overnight</td>\n",
       "      <td>The Overnight</td>\n",
       "      <td>2010</td>\n",
       "      <td>88.0</td>\n",
       "      <td>None</td>\n",
       "      <td>7.5</td>\n",
       "      <td>24</td>\n",
       "      <td>Jun 19, 2015</td>\n",
       "      <td>$200,000</td>\n",
       "      <td>$1,109,808</td>\n",
       "      <td>$1,165,996</td>\n",
       "      <td>NaN</td>\n",
       "      <td>NaN</td>\n",
       "      <td>NaN</td>\n",
       "    </tr>\n",
       "    <tr>\n",
       "      <th>41</th>\n",
       "      <td>tt0337692</td>\n",
       "      <td>On the Road</td>\n",
       "      <td>On the Road</td>\n",
       "      <td>2012</td>\n",
       "      <td>124.0</td>\n",
       "      <td>Adventure,Drama,Romance</td>\n",
       "      <td>6.1</td>\n",
       "      <td>37886</td>\n",
       "      <td>Mar 22, 2013</td>\n",
       "      <td>$25,000,000</td>\n",
       "      <td>$720,828</td>\n",
       "      <td>$9,313,302</td>\n",
       "      <td>IFC</td>\n",
       "      <td>744000.0</td>\n",
       "      <td>8000000</td>\n",
       "    </tr>\n",
       "    <tr>\n",
       "      <th>47</th>\n",
       "      <td>tt0359950</td>\n",
       "      <td>The Secret Life of Walter Mitty</td>\n",
       "      <td>The Secret Life of Walter Mitty</td>\n",
       "      <td>2013</td>\n",
       "      <td>114.0</td>\n",
       "      <td>Adventure,Comedy,Drama</td>\n",
       "      <td>7.3</td>\n",
       "      <td>275300</td>\n",
       "      <td>Dec 25, 2013</td>\n",
       "      <td>$91,000,000</td>\n",
       "      <td>$58,236,838</td>\n",
       "      <td>$187,861,183</td>\n",
       "      <td>Fox</td>\n",
       "      <td>58200000.0</td>\n",
       "      <td>129900000</td>\n",
       "    </tr>\n",
       "    <tr>\n",
       "      <th>51</th>\n",
       "      <td>tt0365907</td>\n",
       "      <td>A Walk Among the Tombstones</td>\n",
       "      <td>A Walk Among the Tombstones</td>\n",
       "      <td>2014</td>\n",
       "      <td>114.0</td>\n",
       "      <td>Action,Crime,Drama</td>\n",
       "      <td>6.5</td>\n",
       "      <td>105116</td>\n",
       "      <td>Sep 19, 2014</td>\n",
       "      <td>$28,000,000</td>\n",
       "      <td>$26,017,685</td>\n",
       "      <td>$62,108,587</td>\n",
       "      <td>Uni.</td>\n",
       "      <td>26300000.0</td>\n",
       "      <td>26900000</td>\n",
       "    </tr>\n",
       "    <tr>\n",
       "      <th>...</th>\n",
       "      <td>...</td>\n",
       "      <td>...</td>\n",
       "      <td>...</td>\n",
       "      <td>...</td>\n",
       "      <td>...</td>\n",
       "      <td>...</td>\n",
       "      <td>...</td>\n",
       "      <td>...</td>\n",
       "      <td>...</td>\n",
       "      <td>...</td>\n",
       "      <td>...</td>\n",
       "      <td>...</td>\n",
       "      <td>...</td>\n",
       "      <td>...</td>\n",
       "      <td>...</td>\n",
       "    </tr>\n",
       "    <tr>\n",
       "      <th>73774</th>\n",
       "      <td>tt9746500</td>\n",
       "      <td>Earth</td>\n",
       "      <td>Erde</td>\n",
       "      <td>2019</td>\n",
       "      <td>115.0</td>\n",
       "      <td>Documentary</td>\n",
       "      <td>7.3</td>\n",
       "      <td>49</td>\n",
       "      <td>Apr 22, 2009</td>\n",
       "      <td>$47,000,000</td>\n",
       "      <td>$32,011,576</td>\n",
       "      <td>$116,773,317</td>\n",
       "      <td>NaN</td>\n",
       "      <td>NaN</td>\n",
       "      <td>NaN</td>\n",
       "    </tr>\n",
       "    <tr>\n",
       "      <th>73900</th>\n",
       "      <td>tt9851050</td>\n",
       "      <td>Sisters</td>\n",
       "      <td>Sisters</td>\n",
       "      <td>2019</td>\n",
       "      <td>NaN</td>\n",
       "      <td>Action,Drama</td>\n",
       "      <td>4.7</td>\n",
       "      <td>14</td>\n",
       "      <td>Dec 18, 2015</td>\n",
       "      <td>$30,000,000</td>\n",
       "      <td>$87,044,645</td>\n",
       "      <td>$106,030,660</td>\n",
       "      <td>Uni.</td>\n",
       "      <td>87000000.0</td>\n",
       "      <td>18000000</td>\n",
       "    </tr>\n",
       "    <tr>\n",
       "      <th>73915</th>\n",
       "      <td>tt9861522</td>\n",
       "      <td>Ali</td>\n",
       "      <td>Ali</td>\n",
       "      <td>2019</td>\n",
       "      <td>110.0</td>\n",
       "      <td>Drama</td>\n",
       "      <td>7.7</td>\n",
       "      <td>79</td>\n",
       "      <td>Dec 25, 2001</td>\n",
       "      <td>$109,000,000</td>\n",
       "      <td>$58,183,966</td>\n",
       "      <td>$87,683,966</td>\n",
       "      <td>NaN</td>\n",
       "      <td>NaN</td>\n",
       "      <td>NaN</td>\n",
       "    </tr>\n",
       "    <tr>\n",
       "      <th>73957</th>\n",
       "      <td>tt9899880</td>\n",
       "      <td>Columbus</td>\n",
       "      <td>Columbus</td>\n",
       "      <td>2018</td>\n",
       "      <td>85.0</td>\n",
       "      <td>Comedy</td>\n",
       "      <td>5.8</td>\n",
       "      <td>5</td>\n",
       "      <td>Aug 4, 2017</td>\n",
       "      <td>$700,000</td>\n",
       "      <td>$1,017,107</td>\n",
       "      <td>$1,110,511</td>\n",
       "      <td>NaN</td>\n",
       "      <td>NaN</td>\n",
       "      <td>NaN</td>\n",
       "    </tr>\n",
       "    <tr>\n",
       "      <th>73970</th>\n",
       "      <td>tt9906218</td>\n",
       "      <td>Unstoppable</td>\n",
       "      <td>Unstoppable</td>\n",
       "      <td>2019</td>\n",
       "      <td>84.0</td>\n",
       "      <td>Documentary</td>\n",
       "      <td>8.1</td>\n",
       "      <td>8</td>\n",
       "      <td>Nov 12, 2010</td>\n",
       "      <td>$95,000,000</td>\n",
       "      <td>$81,562,942</td>\n",
       "      <td>$165,720,921</td>\n",
       "      <td>Fox</td>\n",
       "      <td>81600000.0</td>\n",
       "      <td>86200000</td>\n",
       "    </tr>\n",
       "  </tbody>\n",
       "</table>\n",
       "<p>2875 rows × 15 columns</p>\n",
       "</div>"
      ],
      "text/plain": [
       "        movie_id                    primary_title  \\\n",
       "16     tt0249516                       Foodfight!   \n",
       "33     tt0326592                    The Overnight   \n",
       "41     tt0337692                      On the Road   \n",
       "47     tt0359950  The Secret Life of Walter Mitty   \n",
       "51     tt0365907      A Walk Among the Tombstones   \n",
       "...          ...                              ...   \n",
       "73774  tt9746500                            Earth   \n",
       "73900  tt9851050                          Sisters   \n",
       "73915  tt9861522                              Ali   \n",
       "73957  tt9899880                         Columbus   \n",
       "73970  tt9906218                      Unstoppable   \n",
       "\n",
       "                        original_title  start_year  runtime_minutes  \\\n",
       "16                          Foodfight!        2012             91.0   \n",
       "33                       The Overnight        2010             88.0   \n",
       "41                         On the Road        2012            124.0   \n",
       "47     The Secret Life of Walter Mitty        2013            114.0   \n",
       "51         A Walk Among the Tombstones        2014            114.0   \n",
       "...                                ...         ...              ...   \n",
       "73774                             Erde        2019            115.0   \n",
       "73900                          Sisters        2019              NaN   \n",
       "73915                              Ali        2019            110.0   \n",
       "73957                         Columbus        2018             85.0   \n",
       "73970                      Unstoppable        2019             84.0   \n",
       "\n",
       "                        genres  averagerating  numvotes  release_date  \\\n",
       "16     Action,Animation,Comedy            1.9      8248  Dec 31, 2012   \n",
       "33                        None            7.5        24  Jun 19, 2015   \n",
       "41     Adventure,Drama,Romance            6.1     37886  Mar 22, 2013   \n",
       "47      Adventure,Comedy,Drama            7.3    275300  Dec 25, 2013   \n",
       "51          Action,Crime,Drama            6.5    105116  Sep 19, 2014   \n",
       "...                        ...            ...       ...           ...   \n",
       "73774              Documentary            7.3        49  Apr 22, 2009   \n",
       "73900             Action,Drama            4.7        14  Dec 18, 2015   \n",
       "73915                    Drama            7.7        79  Dec 25, 2001   \n",
       "73957                   Comedy            5.8         5   Aug 4, 2017   \n",
       "73970              Documentary            8.1         8  Nov 12, 2010   \n",
       "\n",
       "      production_budget domestic_gross_x worldwide_gross studio  \\\n",
       "16          $45,000,000               $0         $73,706    NaN   \n",
       "33             $200,000       $1,109,808      $1,165,996    NaN   \n",
       "41          $25,000,000         $720,828      $9,313,302    IFC   \n",
       "47          $91,000,000      $58,236,838    $187,861,183    Fox   \n",
       "51          $28,000,000      $26,017,685     $62,108,587   Uni.   \n",
       "...                 ...              ...             ...    ...   \n",
       "73774       $47,000,000      $32,011,576    $116,773,317    NaN   \n",
       "73900       $30,000,000      $87,044,645    $106,030,660   Uni.   \n",
       "73915      $109,000,000      $58,183,966     $87,683,966    NaN   \n",
       "73957          $700,000       $1,017,107      $1,110,511    NaN   \n",
       "73970       $95,000,000      $81,562,942    $165,720,921    Fox   \n",
       "\n",
       "       domestic_gross_y foreign_gross  \n",
       "16                  NaN           NaN  \n",
       "33                  NaN           NaN  \n",
       "41             744000.0       8000000  \n",
       "47           58200000.0     129900000  \n",
       "51           26300000.0      26900000  \n",
       "...                 ...           ...  \n",
       "73774               NaN           NaN  \n",
       "73900        87000000.0      18000000  \n",
       "73915               NaN           NaN  \n",
       "73957               NaN           NaN  \n",
       "73970        81600000.0      86200000  \n",
       "\n",
       "[2875 rows x 15 columns]"
      ]
     },
     "execution_count": 22,
     "metadata": {},
     "output_type": "execute_result"
    }
   ],
   "source": [
    "primary_df[primary_df['domestic_gross_x'].notna()]"
   ]
  },
  {
   "cell_type": "markdown",
   "metadata": {},
   "source": [
    "#### Note to self: Refocus!\n",
    "## Next Step\n",
    "Below I am defining a function that will compare two values from the separately sourced `domestic_gross`\n",
    "data Series and return the non-NaN value from the two. This way if there is overlap it will favor\n",
    "the \"left-hand\" column. I will use it as the sorting function in the Pandas buitlin method `combine`."
   ]
  },
  {
   "cell_type": "code",
   "execution_count": 23,
   "metadata": {},
   "outputs": [],
   "source": [
    "def swap_check(x, y):\n",
    "    if pd.notna(x):\n",
    "        return x\n",
    "    elif pd.notna(y):\n",
    "        return y\n",
    "    else:\n",
    "        pass"
   ]
  },
  {
   "cell_type": "code",
   "execution_count": 24,
   "metadata": {},
   "outputs": [
    {
     "data": {
      "text/plain": [
       "16         0\n",
       "15291      0\n",
       "15392      0\n",
       "64544      0\n",
       "15411      0\n",
       "        ... \n",
       "73976    NaN\n",
       "73977    NaN\n",
       "73978    NaN\n",
       "73979    NaN\n",
       "73980    NaN\n",
       "Name: domestic_gross_x, Length: 73981, dtype: object"
      ]
     },
     "execution_count": 24,
     "metadata": {},
     "output_type": "execute_result"
    }
   ],
   "source": [
    "one = primary_df['domestic_gross_x'].astype('int64', errors='ignore')\n",
    "two = primary_df['domestic_gross_y'].astype('int64', errors='ignore')\n",
    "one = one.str.strip('$,')\n",
    "one = one.str.replace(',','')\n",
    "one.sort_values()"
   ]
  },
  {
   "cell_type": "markdown",
   "metadata": {},
   "source": [
    "### Fill NaNs Function \n",
    "This function was written to replace placeholder values in the two columns with NaN values. I was\n",
    "having an issue with sorting and combining these two columns because some placeholder values where\n",
    "\"0\" value string objects and therefore would not be identified correctly when merging the two data\n",
    "series.\n",
    "\n",
    "Once all invalid entries have been converted to NaN the two columns can be merged with a simple\n",
    "comparator function (`swap_check`)."
   ]
  },
  {
   "cell_type": "code",
   "execution_count": 25,
   "metadata": {},
   "outputs": [],
   "source": [
    "def fill_nan(x):\n",
    "    if x == 0:\n",
    "        x = np.nan\n",
    "        return x\n",
    "    else:\n",
    "        return x"
   ]
  },
  {
   "cell_type": "code",
   "execution_count": 26,
   "metadata": {},
   "outputs": [],
   "source": [
    "one = one.map(lambda x : int(x), na_action='ignore')\n",
    "two = two.map(lambda x : int(x), na_action='ignore')\n",
    "one = one.map(fill_nan, na_action='ignore')\n",
    "two = two.map(fill_nan, na_action='ignore')\n",
    "combined_gross = one.combine(two, swap_check)"
   ]
  },
  {
   "cell_type": "code",
   "execution_count": 27,
   "metadata": {},
   "outputs": [],
   "source": [
    "prod_budget = primary_df['production_budget']\n",
    "prod_budget = prod_budget.str.replace(',','').str.strip('$').astype('float')\n",
    "primary_df['production_budget'] = prod_budget"
   ]
  },
  {
   "cell_type": "markdown",
   "metadata": {},
   "source": [
    "**_Remerge_** `domestic_gross`"
   ]
  },
  {
   "cell_type": "code",
   "execution_count": 28,
   "metadata": {},
   "outputs": [],
   "source": [
    "primary_df['domestic_gross'] = combined_gross"
   ]
  },
  {
   "cell_type": "code",
   "execution_count": 29,
   "metadata": {},
   "outputs": [],
   "source": [
    "n_final_df = primary_df.drop(columns=['domestic_gross_y','domestic_gross_x'])"
   ]
  },
  {
   "cell_type": "markdown",
   "metadata": {},
   "source": [
    "Check the Production Budget column for non NAN values and the add a column `point_per_dollar` that\n",
    "returns a ratio of the `ratings` and the `production_budget` column."
   ]
  },
  {
   "cell_type": "code",
   "execution_count": 30,
   "metadata": {},
   "outputs": [],
   "source": [
    "n_final_df[n_final_df['production_budget'].notna()]['production_budget']\n",
    "n_final_df['point_per_dollar'] = n_final_df.apply(lambda x : (x['averagerating']/x['production_budget'])*1000000, axis=1)"
   ]
  },
  {
   "cell_type": "markdown",
   "metadata": {},
   "source": [
    "Convert `release_date` column into datetime objects."
   ]
  },
  {
   "cell_type": "code",
   "execution_count": 31,
   "metadata": {},
   "outputs": [
    {
     "name": "stdout",
     "output_type": "stream",
     "text": [
      "<class 'pandas.core.frame.DataFrame'>\n",
      "Int64Index: 73981 entries, 0 to 73980\n",
      "Data columns (total 15 columns):\n",
      " #   Column             Non-Null Count  Dtype         \n",
      "---  ------             --------------  -----         \n",
      " 0   movie_id           73981 non-null  object        \n",
      " 1   primary_title      73981 non-null  object        \n",
      " 2   original_title     73981 non-null  object        \n",
      " 3   start_year         73981 non-null  int64         \n",
      " 4   runtime_minutes    66350 non-null  float64       \n",
      " 5   genres             73176 non-null  object        \n",
      " 6   averagerating      73981 non-null  float64       \n",
      " 7   numvotes           73981 non-null  int64         \n",
      " 8   release_date       2875 non-null   datetime64[ns]\n",
      " 9   production_budget  2875 non-null   float64       \n",
      " 10  worldwide_gross    2875 non-null   object        \n",
      " 11  studio             3044 non-null   object        \n",
      " 12  foreign_gross      1849 non-null   object        \n",
      " 13  domestic_gross     4103 non-null   float64       \n",
      " 14  point_per_dollar   2875 non-null   float64       \n",
      "dtypes: datetime64[ns](1), float64(5), int64(2), object(7)\n",
      "memory usage: 11.5+ MB\n"
     ]
    }
   ],
   "source": [
    "n_final_df['release_date'] = n_final_df['release_date'].map(lambda x : pd.to_datetime(x), na_action='ignore')\n",
    "n_final_df.info()"
   ]
  },
  {
   "cell_type": "markdown",
   "metadata": {},
   "source": [
    "### Genre Filter Function\n",
    "The following function takes a series that contains lists and returns the rows that contain the\n",
    "search term."
   ]
  },
  {
   "cell_type": "code",
   "execution_count": 32,
   "metadata": {},
   "outputs": [],
   "source": [
    "def return_genre(genres_list, term):\n",
    "    if genres_list is np.nan:\n",
    "        return False\n",
    "    else:\n",
    "        try:\n",
    "            return term in genres_list\n",
    "        except TypeError:\n",
    "            return False"
   ]
  },
  {
   "cell_type": "markdown",
   "metadata": {},
   "source": [
    "## Sorting by Genre\n",
    "Below I am assigning variables to hold the genre sorted data. Something to note about this approach\n",
    "verses a `groupby` method that chooses one genre per title this function will sort any movie with\n",
    "the genre search term in its list of genres will be pulled in by the filter. To me this seems like\n",
    "a better way to compare genres than to make an ultimately arbitrary decision about the genre into\n",
    "which a movie should be sorted. It will result in some movies being compared to themselves across\n",
    "genre, but my intution is that this actually provides a more direct comparison over the entire set\n",
    "of data.\n",
    "\n",
    "Of course, I could be wrong. Would be interested in knowing how people who have thought through these\n",
    "situations more carefully or systematically think about dealing with them."
   ]
  },
  {
   "cell_type": "code",
   "execution_count": 33,
   "metadata": {},
   "outputs": [],
   "source": [
    "action = n_final_df[n_final_df['genres'].apply(return_genre, args=(\"Action\",))]\n",
    "romance = n_final_df[n_final_df['genres'].apply(return_genre, args=(\"Romance\",))]\n",
    "crime = n_final_df[n_final_df['genres'].apply(return_genre, args=(\"Crime\",))]\n",
    "comedy = n_final_df[n_final_df['genres'].apply(return_genre, args=(\"Comedy\",))]\n",
    "drama = n_final_df[n_final_df['genres'].apply(return_genre, args=(\"Drama\",))]"
   ]
  },
  {
   "cell_type": "code",
   "execution_count": 34,
   "metadata": {},
   "outputs": [],
   "source": [
    "# Groups by Year and Genre\n",
    "# Action Movie Groups by Year\n",
    "tot_a_gross_by_year = action.groupby('start_year')['domestic_gross'].sum()\n",
    "list_a_gross_by_year = action.dropna(axis=0, how='any', subset=['domestic_gross'])\n",
    "list_a_gross_by_year = list_a_gross_by_year.groupby('start_year')['domestic_gross'].apply(list)\n",
    "med_a_rating_by_year = action.groupby('start_year')['averagerating'].median()\n",
    "med_a_avggross_by_year = action.groupby('start_year')['domestic_gross'].median()\n",
    "med_action_prd_bgt_by_year = action.groupby('start_year')['production_budget'].median()\n",
    "\n",
    "# Romance movie Groups by Year\n",
    "tot_r_gross_by_year = romance.groupby('start_year')['domestic_gross'].sum()\n",
    "med_r_rating_by_year = romance.groupby('start_year')['averagerating'].median()\n",
    "med_r_avggross_by_year = romance.groupby('start_year')['domestic_gross'].median()\n",
    "med_romance_prd_bgt_by_year = romance.groupby('start_year')['production_budget'].median()\n",
    "\n",
    "# Crime movie Groups by Year\n",
    "tot_c_gross_by_year = crime.groupby('start_year')['domestic_gross'].sum()\n",
    "med_c_rating_by_year = crime.groupby('start_year')['averagerating'].median()\n",
    "med_c_avggross_by_year = crime.groupby('start_year')['domestic_gross'].median()\n",
    "med_crime_prd_bgt_by_year = crime.groupby('start_year')['production_budget'].median()\n",
    "\n",
    "# Drama movie Groups by Year\n",
    "tot_d_gross_by_year = drama.groupby('start_year')['domestic_gross'].sum()\n",
    "list_d_gross_by_year = drama.dropna(axis=0, how='any', subset=['domestic_gross'])\n",
    "list_d_gross_by_year = list_d_gross_by_year.groupby('start_year')['domestic_gross'].apply(list)\n",
    "med_d_rating_by_year = drama.groupby('start_year')['averagerating'].median()\n",
    "med_d_avggross_by_year = drama.groupby('start_year')['domestic_gross'].median()\n",
    "med_drama_prd_bgt_by_year = drama.groupby('start_year')['production_budget'].median()\n",
    "\n",
    "# Comedy movie Groups by Year\n",
    "tot_l_gross_by_year = comedy.groupby('start_year')['domestic_gross'].sum()\n",
    "med_l_rating_by_year = comedy.groupby('start_year')['averagerating'].median()\n",
    "med_l_avggross_by_year = comedy.groupby('start_year')['domestic_gross'].median()\n",
    "med_comedy_prd_bgt_by_year = comedy.groupby('start_year')['production_budget'].median()"
   ]
  },
  {
   "cell_type": "markdown",
   "metadata": {},
   "source": [
    "## Total Box Office by Genre\n",
    "Below I am laying out a bar plot that compares total genre marketshare between movies. This will\n",
    "be important to establish areas of interest and where it will be most beneficial to frame further\n",
    "analysis."
   ]
  },
  {
   "cell_type": "code",
   "execution_count": 35,
   "metadata": {},
   "outputs": [
    {
     "data": {
      "image/png": "[encoded data removed]",
      "text/plain": [
       "<Figure size 1080x576 with 1 Axes>"
      ]
     },
     "metadata": {
      "needs_background": "light"
     },
     "output_type": "display_data"
    }
   ],
   "source": [
    "# Setting some matplotlib options to improve the plot output.\n",
    "width = .35\n",
    "plt.rcParams.update({'font.size': 15})\n",
    "\n",
    "# Defining the plot\n",
    "fig, ax = plt.subplots(1, 1, figsize=(15,8))\n",
    "ax.bar(tot_r_gross_by_year.index - width*.75, tot_r_gross_by_year, width/2, label=\"Romance\", color=\"pink\", alpha=.75, zorder=10)\n",
    "ax.bar(tot_a_gross_by_year.index + width*.75, tot_a_gross_by_year, width/2, label=\"Action\", color=\"sandybrown\", alpha=.75, zorder=10)\n",
    "ax.bar(tot_c_gross_by_year.index - width/4, tot_c_gross_by_year, width/2, label=\"Crime\", color=\"crimson\", alpha=.75, zorder=10)\n",
    "ax.bar(tot_d_gross_by_year.index + width/4, tot_d_gross_by_year, width/2, label=\"Drama\", color=\"blueviolet\", alpha=.75, zorder=10)\n",
    "ax.bar(tot_l_gross_by_year.index + width+width*.25, tot_l_gross_by_year, width/2, label=\"Comedy\", color=\"lightgreen\", alpha=.75, zorder=10)\n",
    "\n",
    "ax.set_title('Total Box Office By Genre')\n",
    "ax.set_xticks([2010, 2011, 2012, 2013, 2014, 2015, 2016, 2017, 2018, 2019, 2020])\n",
    "ax.set_xlabel('Years')\n",
    "ax.set_ylabel('Domestic Gross')\n",
    "ax.legend()\n",
    "\n",
    "fig.tight_layout()\n",
    "plt.show()"
   ]
  },
  {
   "cell_type": "markdown",
   "metadata": {},
   "source": [
    "## Dollar per Rating point by Genre\n",
    "Here I am going to determine how much a studio spends per point of the rating scale.\n",
    "\n",
    "Below I am downsampling the data a bit to make a more readable visualization. I am also reducing\n",
    "filtering rows and droping na values that might interfere with calculations."
   ]
  },
  {
   "cell_type": "code",
   "execution_count": 36,
   "metadata": {
    "scrolled": false
   },
   "outputs": [],
   "source": [
    "sample_size = 100\n",
    "action_data = action[['release_date', 'averagerating', 'production_budget', 'point_per_dollar']].dropna(axis=0, how='any')\n",
    "action_data = action_data[(action_data['release_date'] > pd.to_datetime('1/1/2010')) & (action_data['point_per_dollar'] < 2 )].sample(sample_size)\n",
    "action_data = action_data.sort_values('release_date')\n",
    "drama_data = drama[['release_date', 'averagerating', 'production_budget', 'point_per_dollar']].dropna(axis=0, how='any')\n",
    "drama_data = drama_data[(drama_data['release_date'] > pd.to_datetime('1/1/2010')) & (drama_data['point_per_dollar'] < 2 )].sample(sample_size)\n",
    "comedy_data = comedy[['release_date', 'averagerating', 'production_budget', 'point_per_dollar']].dropna(axis=0, how='any')\n",
    "comedy_data = comedy_data[(comedy_data['release_date'] > pd.to_datetime('1/1/2010')) & (comedy_data['point_per_dollar'] < 2)].sample(sample_size)\n",
    "romance_data = romance[['release_date', 'averagerating', 'production_budget', 'point_per_dollar']].dropna(axis=0, how='any')\n",
    "romance_data = romance_data[(romance_data['release_date'] > pd.to_datetime('1/1/2010')) & (romance_data['point_per_dollar'] < 2)].sample(sample_size)\n",
    "crime_data = crime[['release_date', 'averagerating', 'production_budget', 'point_per_dollar']].dropna(axis=0, how='any')\n",
    "crime_data = crime_data[(crime_data['release_date'] > pd.to_datetime('1/1/2010')) & (crime_data['point_per_dollar'] < 2)].sample(sample_size)"
   ]
  },
  {
   "cell_type": "code",
   "execution_count": 37,
   "metadata": {
    "scrolled": false
   },
   "outputs": [
    {
     "name": "stderr",
     "output_type": "stream",
     "text": [
      "No handles with labels found to put in legend.\n"
     ]
    },
    {
     "data": {
      "image/png": "[encoded data removed]",
      "text/plain": [
       "<Figure size 864x864 with 2 Axes>"
      ]
     },
     "metadata": {
      "needs_background": "light"
     },
     "output_type": "display_data"
    }
   ],
   "source": [
    "fig2, ax2 = plt.subplots(2, 1, figsize=(12,12))\n",
    "\n",
    "ax2[0].plot(med_action_prd_bgt_by_year, color='sandybrown', alpha=.75, label='Action')\n",
    "ax2[0].plot(med_drama_prd_bgt_by_year,color='blueviolet', alpha=.75, label='Drama')\n",
    "ax2[0].plot(med_crime_prd_bgt_by_year, color='crimson', alpha=.75, label='Crime')\n",
    "ax2[0].plot(med_romance_prd_bgt_by_year, color='pink', alpha=.75, label='Romance')\n",
    "ax2[0].plot(med_comedy_prd_bgt_by_year, color='lightgreen', alpha=.75, label='Comedy')\n",
    "\n",
    "ax2[0].set_xticks([2010, 2011, 2012, 2013, 2014, 2015, 2016, 2017, 2018, 2019, 2020])\n",
    "ax2[0].set_xlabel('Release Year')\n",
    "ax2[0].set_ylabel('Median Budget')\n",
    "ax2[0].set_title('Production Budgets Over Time')\n",
    "ax2[0].legend()\n",
    "\n",
    "# ------------------------------------------------------------------------------------\n",
    "# Below I define the boxplots and use a for loop\n",
    "# to loop through the `patch` artist object and\n",
    "# set each boxes color styling and alpha valuesk\n",
    "\n",
    "box_labels = [\"Action\", \"Drama\", \"Comedy\", \"Romance\", \"Crime\"]\n",
    "box_data = [action_data['point_per_dollar'],drama_data['point_per_dollar'], comedy_data['point_per_dollar'],romance_data['point_per_dollar'],crime_data['point_per_dollar']]\n",
    "bplot = ax2[1].boxplot(box_data, labels=box_labels, patch_artist=True, notch=True)\n",
    "colors = ['sandybrown', 'blueviolet', 'lightgreen', 'pink', 'crimson']\n",
    "for plot in bplot:\n",
    "    for patch, color in zip(bplot['boxes'], colors):\n",
    "        patch.set_facecolor(color)\n",
    "        patch.set_alpha(.75)\n",
    "        patch.set_joinstyle('round')\n",
    "ax2[1].set_title('Distribution of Ratings Point per Million Spent')\n",
    "ax2[1].set_ylabel('Rating Points per Million Spent')\n",
    "ax2[1].legend()\n",
    "plt.tight_layout()\n",
    "plt.show()"
   ]
  },
  {
   "cell_type": "markdown",
   "metadata": {},
   "source": [
    "### Stacked Bar Plot\n",
    "Here I am defining a stacked bar plot to compare aggregate values from each genre groups and\n",
    "color the aggregates to show rough distributions of individual titles wthin each aggregated\n",
    "bar."
   ]
  },
  {
   "cell_type": "code",
   "execution_count": 38,
   "metadata": {},
   "outputs": [],
   "source": [
    "def build_graph(df, colors, category=\"\"):\n",
    "    x_names = df.index.to_list()\n",
    "    fig, ax = plt.subplots(figsize=(8,5))\n",
    "    for row in x_names:\n",
    "        stack = 0\n",
    "        for index, part in enumerate(df[row]):\n",
    "            c_ind = index\n",
    "            if c_ind > len(colors) - 1:\n",
    "                c_ind = round(index/len(df[row]) * (len(colors) - 1))\n",
    "            ax.bar(row, part, bottom= stack,width=.5, color=colors[c_ind])\n",
    "            stack += part\n",
    "    ax.set_xticks(x_names)\n",
    "    ax.set_ylabel('Domestic Gross\\n in 100\\'s of Millions')\n",
    "    ax.set_xlabel('Years')\n",
    "    ax.set_title(f'{category} Movie Grosses By Year')\n",
    "    return fig, ax "
   ]
  },
  {
   "cell_type": "markdown",
   "metadata": {},
   "source": [
    "## Comparisons of Distribution\n",
    "Now that the function to construct the stacked bar plots is defined I can use it to feed in\n",
    "my data from the genre groups. Above I assigned variables to hold the `groupby('year')` results\n",
    "and aggregate them into a list. The function takes that list and the index column from the\n",
    "groupby object and stacks each value in the bar graph. The function is purpose built for this\n",
    "data but could be generalized fairly easily. \n",
    "\n",
    "Something that may be helpful in the future would\n",
    "be to expand this function into a class definition that returns a plot and can be configured\n",
    "similarly to a other matplotlib plot classes."
   ]
  },
  {
   "cell_type": "code",
   "execution_count": 39,
   "metadata": {
    "scrolled": false
   },
   "outputs": [
    {
     "data": {
      "image/png": "[encoded data removed]",
      "text/plain": [
       "<Figure size 576x360 with 1 Axes>"
      ]
     },
     "metadata": {
      "needs_background": "light"
     },
     "output_type": "display_data"
    }
   ],
   "source": [
    "blue_colors = ['powderblue','deepskyblue','paleturquoise', 'cornflowerblue', 'dodgerblue']\n",
    "build_graph(list_a_gross_by_year, blue_colors, \"Action\")\n",
    "plt.tight_layout()\n",
    "plt.show()"
   ]
  },
  {
   "cell_type": "code",
   "execution_count": 40,
   "metadata": {
    "scrolled": true
   },
   "outputs": [
    {
     "data": {
      "image/png": "[encoded data removed]",
      "text/plain": [
       "<Figure size 576x360 with 1 Axes>"
      ]
     },
     "metadata": {
      "needs_background": "light"
     },
     "output_type": "display_data"
    }
   ],
   "source": [
    "red_colors = ['sandybrown', 'crimson','coral', 'tomato','lightsalmon', 'red']\n",
    "build_graph(list_d_gross_by_year, red_colors, \"Drama\")\n",
    "plt.tight_layout()\n",
    "plt.show()"
   ]
  }
 ],
 "metadata": {
  "kernelspec": {
   "display_name": "Python 3 (learn-env)",
   "language": "python",
   "name": "python3"
  },
  "language_info": {
   "codemirror_mode": {
    "name": "ipython",
    "version": 3
   },
   "file_extension": ".py",
   "mimetype": "text/x-python",
   "name": "python",
   "nbconvert_exporter": "python",
   "pygments_lexer": "ipython3",
   "version": "3.8.5"
  }
 },
 "nbformat": 4,
 "nbformat_minor": 4
}
